{
 "cells": [
  {
   "cell_type": "code",
   "execution_count": 2,
   "id": "42c1b83a-2d88-4be7-951b-118d3542f419",
   "metadata": {},
   "outputs": [],
   "source": [
    "import numpy as np"
   ]
  },
  {
   "cell_type": "code",
   "execution_count": 8,
   "id": "250ea12d-b2be-4ef0-9b2b-c00f46503b3a",
   "metadata": {},
   "outputs": [
    {
     "name": "stdout",
     "output_type": "stream",
     "text": [
      "[[0. 0. 0. 0. 0. 0.]\n",
      " [0. 0. 0. 0. 0. 0.]\n",
      " [0. 0. 0. 0. 0. 0.]\n",
      " [0. 0. 0. 0. 0. 0.]]\n",
      "[[1. 1. 1. 1. 1.]\n",
      " [1. 1. 1. 1. 1.]\n",
      " [1. 1. 1. 1. 1.]]\n",
      "[0. 0.]\n",
      "[10 11 12 13 14 15 16 17 18 19]\n",
      "[1.         1.44444444 1.88888889 2.33333333 2.77777778 3.22222222\n",
      " 3.66666667 4.11111111 4.55555556 5.        ]\n"
     ]
    },
    {
     "data": {
      "text/plain": [
       "array([[1., 0., 0.],\n",
       "       [0., 1., 0.],\n",
       "       [0., 0., 1.]])"
      ]
     },
     "execution_count": 8,
     "metadata": {},
     "output_type": "execute_result"
    }
   ],
   "source": [
    "arr1=np.array([0,1,2,3,4,5])\n",
    "print(np.zeros((4,6)))\n",
    "print(np.ones((3,5)))\n",
    "arr2=np.ones((3,5),dtype='int32')\n",
    "print(np.empty(2))\n",
    "print(np.arange(10,20))\n",
    "print(np.linspace(1,5,10))\n",
    "np.full((7,7),7)\n",
    "np.eye(3)"
   ]
  },
  {
   "cell_type": "code",
   "execution_count": 9,
   "id": "5164e2e0-cca9-4cf6-8ee8-79a59f144ef3",
   "metadata": {},
   "outputs": [
    {
     "name": "stdout",
     "output_type": "stream",
     "text": [
      "(3, 5)\n",
      "2\n",
      "float64\n",
      "15\n"
     ]
    }
   ],
   "source": [
    "print(np.ones((3,5)).shape)\n",
    "print(np.ones((3,5)).ndim)\n",
    "print(np.ones((3,5)).dtype)\n",
    "print(np.ones((3,5)).size)"
   ]
  },
  {
   "cell_type": "code",
   "execution_count": 26,
   "id": "b71ec3d6-b6a6-427d-b9df-09d25de9eee9",
   "metadata": {},
   "outputs": [
    {
     "data": {
      "text/plain": [
       "array([1, 1], dtype=int32)"
      ]
     },
     "execution_count": 26,
     "metadata": {},
     "output_type": "execute_result"
    }
   ],
   "source": [
    "arr=arr2[2:5].copy()\n",
    "arr[0:3,2:5]=34\n",
    "arr3=arr.astype(float)\n",
    "arr3=arr[arr==1]\n",
    "arr3.dtype\n",
    "arr3"
   ]
  },
  {
   "cell_type": "code",
   "execution_count": null,
   "id": "917ebf41-13ba-4ccb-bca2-991bf7b8063a",
   "metadata": {},
   "outputs": [
    {
     "name": "stdout",
     "output_type": "stream",
     "text": [
      "[  0  30  60  90 120 150 180 210 240 270 300 330 360]\n",
      "[0.         0.52359878 1.04719755 1.57079633 2.0943951  2.61799388\n",
      " 3.14159265 3.66519143 4.1887902  4.71238898 5.23598776 5.75958653\n",
      " 6.28318531]\n",
      "[ 0.00000000e+00  5.00000000e-01  8.66025404e-01  1.00000000e+00\n",
      "  8.66025404e-01  5.00000000e-01  1.22464680e-16 -5.00000000e-01\n",
      " -8.66025404e-01 -1.00000000e+00 -8.66025404e-01 -5.00000000e-01\n",
      " -2.44929360e-16]\n"
     ]
    }
   ],
   "source": [
    "angles=np.arange(0,390,30)\n",
    "radians=angles*np.pi/180\n",
    "sin=np.sin(radians)\n",
    "print(angles)\n",
    "print(radians)\n",
    "print(sin)"
   ]
  },
  {
   "cell_type": "code",
   "execution_count": 19,
   "id": "39023643-f234-4298-b866-2b252b1d1b64",
   "metadata": {},
   "outputs": [
    {
     "name": "stdout",
     "output_type": "stream",
     "text": [
      "15\n",
      "2.5\n",
      "1.707825127659933\n",
      "0\n",
      "5\n"
     ]
    }
   ],
   "source": [
    "print(np.sum(arr1))\n",
    "print(np.mean(arr1))\n",
    "print(np.std(arr1))\n",
    "print(np.min(arr1))\n",
    "print(np.max(arr1))"
   ]
  },
  {
   "cell_type": "code",
   "execution_count": 27,
   "id": "75031c5e",
   "metadata": {},
   "outputs": [
    {
     "name": "stdout",
     "output_type": "stream",
     "text": [
      "[ 0  1  2  3  4  5  6  7  8  9 10 11 12 13 14 15 16 17 18 19 20 21 22 23\n",
      " 24]\n",
      "[ 1  4  7 10 13 16 19 22]\n",
      "[22 19 16 13 10  7  4  1]\n"
     ]
    }
   ],
   "source": [
    "Arr=np.arange(25)\n",
    "Arr1=Arr[1::3]\n",
    "Arr2=Arr1[::-1]\n",
    "print(Arr)\n",
    "print(Arr1)\n",
    "print(Arr2)"
   ]
  },
  {
   "cell_type": "code",
   "execution_count": 31,
   "id": "c733b3c6",
   "metadata": {},
   "outputs": [
    {
     "name": "stdout",
     "output_type": "stream",
     "text": [
      "[5 6 7 8 9]\n",
      "[ 2  7 12 17 22]\n",
      "[[ 6  7  8]\n",
      " [11 12 13]\n",
      " [16 17 18]]\n"
     ]
    }
   ],
   "source": [
    "a=np.arange(25).reshape(5,5)\n",
    "print(a[1, :])\n",
    "print(a[ :,2])\n",
    "print(a[1:4,1:4])"
   ]
  },
  {
   "cell_type": "code",
   "execution_count": 32,
   "id": "8cc67722",
   "metadata": {},
   "outputs": [
    {
     "name": "stdout",
     "output_type": "stream",
     "text": [
      "[ 96  93  95 100  95  98]\n",
      "[ 22  48  96  80  48  52  40  64  72  50  54  16  52  48  36  38  50  86\n",
      "  80  88  90  72  60  28  18   6  58  82   0  68  32  88  18  86  76  10\n",
      "  62  56  62   0  56 100  26  36  98  90  22  44  34   2  20  50  48  66\n",
      "  44  18]\n",
      "[ 7 77 21 28 77  0  7 35 56  0 56 98]\n"
     ]
    },
    {
     "data": {
      "text/plain": [
       "array([ 22,  48,  96,  80,  69,  48,  52,  40,   7,  64,  72,  50,  93,\n",
       "        33,  54,  83,  77,  16,   5,  52,  48,  36,  38,  95,  50,  86,\n",
       "        87,  80,  88,  90,  21,  55,  53,  81,   1,  72,  60,  28,  57,\n",
       "        18,   6,  58,  61,  77,  82,  81,   0,  68,  32,  43,  25,   7,\n",
       "        35,  88,  18,  55,  86,  27,  76,  10,  11,  47,  62,  56,  83,\n",
       "        62,  25,   0,  11,  56, 100,  83,  95,  26,  36,  17,  39,   3,\n",
       "        39,  98,  90,  22,  44,  34,   2,  53,  20,  11,  73,  89,  27,\n",
       "        50,  11,  48,  11,  73,  66,  65,  44,  18], dtype=int32)"
      ]
     },
     "execution_count": 32,
     "metadata": {},
     "output_type": "execute_result"
    }
   ],
   "source": [
    "b=np.random.randint(0,101,100)\n",
    "print(b[b>90])\n",
    "print(b[b%2==0])\n",
    "print(b[b%7==0])\n",
    "b"
   ]
  },
  {
   "cell_type": "code",
   "execution_count": null,
   "id": "d55c4b1e",
   "metadata": {},
   "outputs": [],
   "source": [
    "print(np.random.rand(2,4))\n",
    "print(np.random.randint(10,20,(2,4)))\n",
    "print(np.random.randint(10,20,(2,4)))"
   ]
  }
 ],
 "metadata": {
  "kernelspec": {
   "display_name": "Python 3",
   "language": "python",
   "name": "python3"
  },
  "language_info": {
   "codemirror_mode": {
    "name": "ipython",
    "version": 3
   },
   "file_extension": ".py",
   "mimetype": "text/x-python",
   "name": "python",
   "nbconvert_exporter": "python",
   "pygments_lexer": "ipython3",
   "version": "3.13.2"
  }
 },
 "nbformat": 4,
 "nbformat_minor": 5
}
