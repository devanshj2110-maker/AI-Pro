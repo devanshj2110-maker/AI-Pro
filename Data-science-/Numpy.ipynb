{
 "cells": [
  {
   "cell_type": "code",
   "execution_count": 2,
   "id": "42c1b83a-2d88-4be7-951b-118d3542f419",
   "metadata": {},
   "outputs": [],
   "source": [
    "import numpy as np"
   ]
  },
  {
   "cell_type": "code",
   "execution_count": 3,
   "id": "250ea12d-b2be-4ef0-9b2b-c00f46503b3a",
   "metadata": {},
   "outputs": [
    {
     "name": "stdout",
     "output_type": "stream",
     "text": [
      "[[0. 0. 0. 0. 0. 0.]\n",
      " [0. 0. 0. 0. 0. 0.]\n",
      " [0. 0. 0. 0. 0. 0.]\n",
      " [0. 0. 0. 0. 0. 0.]]\n",
      "[[1. 1. 1. 1. 1.]\n",
      " [1. 1. 1. 1. 1.]\n",
      " [1. 1. 1. 1. 1.]]\n",
      "[0. 0.]\n",
      "[10 11 12 13 14 15 16 17 18 19]\n",
      "[1.         1.44444444 1.88888889 2.33333333 2.77777778 3.22222222\n",
      " 3.66666667 4.11111111 4.55555556 5.        ]\n"
     ]
    },
    {
     "data": {
      "text/plain": [
       "array([[1., 0., 0.],\n",
       "       [0., 1., 0.],\n",
       "       [0., 0., 1.]])"
      ]
     },
     "execution_count": 3,
     "metadata": {},
     "output_type": "execute_result"
    }
   ],
   "source": [
    "arr1=np.array([0,1,2,3,4,5])\n",
    "print(np.zeros((4,6)))\n",
    "print(np.ones((3,5)))\n",
    "arr2=np.ones((3,5),dtype='int32')\n",
    "print(np.empty(2))\n",
    "print(np.arange(10,20))\n",
    "print(np.linspace(1,5,10))\n",
    "np.full((7,7),7)\n",
    "np.eye(3)"
   ]
  },
  {
   "cell_type": "code",
   "execution_count": 4,
   "id": "5164e2e0-cca9-4cf6-8ee8-79a59f144ef3",
   "metadata": {},
   "outputs": [
    {
     "name": "stdout",
     "output_type": "stream",
     "text": [
      "(3, 5)\n",
      "2\n",
      "float64\n",
      "15\n"
     ]
    }
   ],
   "source": [
    "print(np.ones((3,5)).shape)\n",
    "print(np.ones((3,5)).ndim)\n",
    "print(np.ones((3,5)).dtype)\n",
    "print(np.ones((3,5)).size)"
   ]
  },
  {
   "cell_type": "code",
   "execution_count": 5,
   "id": "b71ec3d6-b6a6-427d-b9df-09d25de9eee9",
   "metadata": {},
   "outputs": [
    {
     "data": {
      "text/plain": [
       "array([1, 1], dtype=int32)"
      ]
     },
     "execution_count": 5,
     "metadata": {},
     "output_type": "execute_result"
    }
   ],
   "source": [
    "arr=arr2[2:5].copy()\n",
    "arr[0:3,2:5]=34\n",
    "arr3=arr.astype(float)\n",
    "arr3=arr[arr==1]\n",
    "arr3.dtype\n",
    "arr3"
   ]
  },
  {
   "cell_type": "code",
   "execution_count": 6,
   "id": "917ebf41-13ba-4ccb-bca2-991bf7b8063a",
   "metadata": {},
   "outputs": [
    {
     "name": "stdout",
     "output_type": "stream",
     "text": [
      "[  0  30  60  90 120 150 180 210 240 270 300 330 360]\n",
      "[0.         0.52359878 1.04719755 1.57079633 2.0943951  2.61799388\n",
      " 3.14159265 3.66519143 4.1887902  4.71238898 5.23598776 5.75958653\n",
      " 6.28318531]\n",
      "[ 0.00000000e+00  5.00000000e-01  8.66025404e-01  1.00000000e+00\n",
      "  8.66025404e-01  5.00000000e-01  1.22464680e-16 -5.00000000e-01\n",
      " -8.66025404e-01 -1.00000000e+00 -8.66025404e-01 -5.00000000e-01\n",
      " -2.44929360e-16]\n"
     ]
    }
   ],
   "source": [
    "angles=np.arange(0,390,30)\n",
    "radians=angles*np.pi/180\n",
    "sin=np.sin(radians)\n",
    "print(angles)\n",
    "print(radians)\n",
    "print(sin)"
   ]
  },
  {
   "cell_type": "code",
   "execution_count": null,
   "id": "39023643-f234-4298-b866-2b252b1d1b64",
   "metadata": {},
   "outputs": [
    {
     "name": "stdout",
     "output_type": "stream",
     "text": [
      "15\n",
      "2.5\n",
      "1.707825127659933\n",
      "0\n",
      "5\n"
     ]
    }
   ],
   "source": [
    "print(np.sum(arr1))\n",
    "print(np.mean(arr1))\n",
    "print(np.std(arr1))\n",
    "print(np.min(arr1))\n",
    "print(np.max(arr1))\n",
    "X = np.array([[1, 2], [3, 4]])\n",
    "Y = np.array([[5, 6], [7, 8]])\n",
    "print(X*Y)\n",
    "print(X@Y)\n",
    "print(X.T)\n",
    "print(np.linlang.det(Y))\n",
    "print(np.linlang.inv(X))"
   ]
  },
  {
   "cell_type": "code",
   "execution_count": 8,
   "id": "75031c5e",
   "metadata": {},
   "outputs": [
    {
     "name": "stdout",
     "output_type": "stream",
     "text": [
      "[ 0  1  2  3  4  5  6  7  8  9 10 11 12 13 14 15 16 17 18 19 20 21 22 23\n",
      " 24]\n",
      "[ 1  4  7 10 13 16 19 22]\n",
      "[22 19 16 13 10  7  4  1]\n"
     ]
    }
   ],
   "source": [
    "Arr=np.arange(25)\n",
    "Arr1=Arr[1::3]\n",
    "Arr2=Arr1[::-1]\n",
    "print(Arr)\n",
    "print(Arr1)\n",
    "print(Arr2)"
   ]
  },
  {
   "cell_type": "code",
   "execution_count": 9,
   "id": "c733b3c6",
   "metadata": {},
   "outputs": [
    {
     "name": "stdout",
     "output_type": "stream",
     "text": [
      "[5 6 7 8 9]\n",
      "[ 2  7 12 17 22]\n",
      "[[ 6  7  8]\n",
      " [11 12 13]\n",
      " [16 17 18]]\n"
     ]
    }
   ],
   "source": [
    "a=np.arange(25).reshape(5,5)\n",
    "print(a[1, :])\n",
    "print(a[ :,2])\n",
    "print(a[1:4,1:4])"
   ]
  },
  {
   "cell_type": "code",
   "execution_count": 25,
   "id": "c4300a1c",
   "metadata": {},
   "outputs": [],
   "source": [
    "np.random.seed(43)"
   ]
  },
  {
   "cell_type": "code",
   "execution_count": 29,
   "id": "f89ee8f0",
   "metadata": {},
   "outputs": [
    {
     "name": "stdout",
     "output_type": "stream",
     "text": [
      "[68 64 49 21 58 16 51 17 59 91 66 30 87 64 35 50 75 89 65 34 75 66 99  4\n",
      " 36 76 88 47 32 74 60 73 34 48 52 68 28 73  7 61 84 47 53 32  3 34 41 25\n",
      " 29 26 53 85 21 74 27 58  7 95 61 99 51 34 46 52 18 23  3 70 24 51  6 44\n",
      " 87 36 85 14 83 85 40 83 85 27 42 49 70 16 16 78 63 28 59 31 81 33  5 13\n",
      "  8 64 51 54 73]\n",
      "[91 99 95 99]\n",
      "[68 64 58 16 66 30 64 50 34 66  4 36 76 88 32 74 60 34 48 52 68 28 84 32\n",
      " 34 26 74 58 34 46 52 18 70 24  6 44 36 14 40 42 70 16 16 78 28  8 64 54]\n",
      "[49 21 91 35 28  7 84 21  7 70 14 42 49 70 63 28]\n"
     ]
    }
   ],
   "source": [
    "b=np.random.randint(0,100,101)\n",
    "print(b)\n",
    "print(b[b>90])\n",
    "print(b[b%2==0])\n",
    "print(b[b%7==0])"
   ]
  },
  {
   "cell_type": "code",
   "execution_count": 24,
   "id": "d55c4b1e",
   "metadata": {},
   "outputs": [
    {
     "name": "stdout",
     "output_type": "stream",
     "text": [
      "[[0.87694023 0.69091294 0.20842624 0.5255719 ]\n",
      " [0.6102149  0.75910593 0.24149505 0.29236239]]\n",
      "[[17 14 15 13]\n",
      " [13 11 18 11]]\n",
      "[[14 13 13 14]\n",
      " [12 18 18 12]]\n",
      "[[165.95747432 177.56860132 174.01163722 182.43328056]\n",
      " [176.92705493 167.41166929 179.10142365 176.5720659 ]]\n",
      "[26 59 13  9 57 50 69 22 48  0 67 86 58 91 95 42 12 48 73 56]\n"
     ]
    }
   ],
   "source": [
    "print(np.random.rand(2,4))\n",
    "print(np.random.randint(10,20,(2,4)))\n",
    "print(np.random.randint(10,20,(2,4)))\n",
    "print(170+10*np.random.randn(2,4))\n",
    "p=np.random.rand(101)\n",
    "print(np.random.choice(b,size=20,replace=False,p=p/np.sum(p)))"
   ]
  },
  {
   "cell_type": "code",
   "execution_count": null,
   "id": "40ae73d8",
   "metadata": {},
   "outputs": [
    {
     "name": "stdout",
     "output_type": "stream",
     "text": [
      "[[0. 0. 0. 0. 0. 0.]\n",
      " [0. 0. 0. 0. 0. 0.]\n",
      " [0. 0. 0. 0. 0. 0.]\n",
      " [0. 0. 0. 0. 0. 0.]]\n",
      "[0. 0. 0. 0. 0. 0. 0. 0. 0. 0. 0. 0. 0. 0. 0. 0. 0. 0. 0. 0. 0. 0. 0. 0.]\n",
      "[[0. 0. 0. 0. 0. 0.]\n",
      " [0. 0. 0. 0. 0. 0.]\n",
      " [0. 0. 0. 0. 0. 0.]\n",
      " [0. 0. 0. 0. 0. 0.]]\n",
      "[0. 0. 0. 0. 0. 0. 0. 0. 0. 0. 0. 0. 0. 0. 0. 0. 0. 0. 0. 0. 0. 0. 0. 0.]\n",
      "[0. 0. 0. 0. 0. 0. 0. 0. 0. 0. 0. 0. 0. 0. 0. 0. 0. 0. 0. 0. 0. 0. 0. 0.]\n"
     ]
    }
   ],
   "source": [
    "c=np.zeros(24)\n",
    "c=c.reshape(4,6)\n",
    "print(c)\n",
    "print(c.ravel())\n",
    "c=c.reshape(2,3,4)\n",
    "print(c)\n",
    "print(c.flatten())\n",
    "c=c.reshape(-1)\n",
    "print(c)"
   ]
  },
  {
   "cell_type": "code",
   "execution_count": 39,
   "id": "6206cdfb",
   "metadata": {},
   "outputs": [
    {
     "name": "stdout",
     "output_type": "stream",
     "text": [
      "3.0109\n",
      "1460\n"
     ]
    }
   ],
   "source": [
    "die=np.random.randint(0,7,10000)\n",
    "# print(die)\n",
    "print(die.mean())\n",
    "print(len(die[die==6]))"
   ]
  },
  {
   "cell_type": "code",
   "execution_count": 34,
   "id": "a2a48aba",
   "metadata": {},
   "outputs": [
    {
     "name": "stdout",
     "output_type": "stream",
     "text": [
      "16\n"
     ]
    }
   ],
   "source": [
    "height=170+10*np.random.randn(1000)\n",
    "print(len(height[height>190]))"
   ]
  },
  {
   "cell_type": "code",
   "execution_count": 43,
   "id": "9226b74d",
   "metadata": {},
   "outputs": [
    {
     "name": "stdout",
     "output_type": "stream",
     "text": [
      "1616\n",
      "46.8\n",
      "57.2\n",
      "35.2\n",
      "62.0\n",
      "75.6\n",
      "46.4\n"
     ]
    }
   ],
   "source": [
    "X=np.random.randint(0,101,(5,6))\n",
    "print(X.sum())\n",
    "for i in range(6):\n",
    "    print(X[:,i].mean())"
   ]
  },
  {
   "cell_type": "code",
   "execution_count": 44,
   "id": "05e1fee6",
   "metadata": {},
   "outputs": [
    {
     "name": "stdout",
     "output_type": "stream",
     "text": [
      "(2, 2)\n",
      "(3, 3)\n"
     ]
    }
   ],
   "source": [
    "X=np.random.randint(0,10,(2,3))\n",
    "Y=np.random.randint(0,10,(3,2))\n",
    "print((X@Y).shape)\n",
    "print((Y@X).shape)"
   ]
  },
  {
   "cell_type": "code",
   "execution_count": 45,
   "id": "07a333bf",
   "metadata": {},
   "outputs": [
    {
     "name": "stdout",
     "output_type": "stream",
     "text": [
      "10.9\n"
     ]
    }
   ],
   "source": [
    "die1=np.random.randint(0,7,1001)\n",
    "die2=np.random.randint(0,7,1001)\n",
    "sum=die1+die2\n",
    "print(len(sum[sum==7])/10)"
   ]
  },
  {
   "cell_type": "code",
   "execution_count": 75,
   "id": "f76f49a6",
   "metadata": {},
   "outputs": [
    {
     "name": "stdout",
     "output_type": "stream",
     "text": [
      "[ 3  6  7  3 11  4]\n",
      "[ 8  6  2  3  3  8  8  0  6  3  7  5  1  4  9  6  2  8  4  9  8  9  5  5\n",
      "  5 11]\n",
      "[[8 6 2 3 3]\n",
      " [8 8 0 6 3]\n",
      " [7 5 1 4 9]\n",
      " [6 2 8 4 9]]\n",
      "[8 6 2 3 3 8 8 0 6 3 7 5 1 4 9 6 2 8 4 9 8 9 5 5 5 3 6 7 3 4]\n",
      "[3 6 7 3 4 3 6 7 3 4]\n",
      "[[3 6 7 3 4]\n",
      " [8 6 2 3 3]\n",
      " [8 8 0 6 3]\n",
      " [7 5 1 4 9]\n",
      " [6 2 8 4 9]\n",
      " [8 9 5 5 5]]\n",
      "[array([3], dtype=int32), array([6], dtype=int32), array([7], dtype=int32), array([3], dtype=int32), array([4], dtype=int32)]\n"
     ]
    }
   ],
   "source": [
    "a1=np.random.randint(0,10,5)\n",
    "a2=np.random.randint(0,10,(5,5))\n",
    "print(np.insert(a1,4,11))\n",
    "print(np.append(a2,11))\n",
    "print(np.delete(a2,4,axis=0))\n",
    "print(np.concatenate((a2,a1),axis=None))\n",
    "print(np.hstack((a1,a1)))\n",
    "print(np.vstack((a1,a2)))\n",
    "print(np.split(a1,5))"
   ]
  },
  {
   "cell_type": "code",
   "execution_count": 77,
   "id": "7edd6bc1",
   "metadata": {},
   "outputs": [
    {
     "name": "stdout",
     "output_type": "stream",
     "text": [
      "[False False False  True False False False]\n",
      "[False  True False False False  True False]\n",
      "[    1.  1000.     2.   100.     3. -1000.     4.]\n"
     ]
    }
   ],
   "source": [
    "n=np.array([1,np.inf,2,np.nan,3,-np.inf,4])\n",
    "print(np.isnan(n))\n",
    "print(np.isinf(n))\n",
    "print(np.nan_to_num(n,nan=100,posinf=1000,neginf=-1000))"
   ]
  },
  {
   "cell_type": "code",
   "execution_count": null,
   "id": "d083bdfc",
   "metadata": {},
   "outputs": [],
   "source": []
  }
 ],
 "metadata": {
  "kernelspec": {
   "display_name": "Python 3",
   "language": "python",
   "name": "python3"
  },
  "language_info": {
   "codemirror_mode": {
    "name": "ipython",
    "version": 3
   },
   "file_extension": ".py",
   "mimetype": "text/x-python",
   "name": "python",
   "nbconvert_exporter": "python",
   "pygments_lexer": "ipython3",
   "version": "3.13.2"
  }
 },
 "nbformat": 4,
 "nbformat_minor": 5
}
