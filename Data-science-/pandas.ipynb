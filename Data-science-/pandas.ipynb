{
 "cells": [
  {
   "cell_type": "code",
   "execution_count": 1,
   "id": "32f0e9d7",
   "metadata": {},
   "outputs": [],
   "source": [
    "import pandas as pd\n",
    "import numpy as np"
   ]
  },
  {
   "cell_type": "code",
   "execution_count": 2,
   "id": "6e9b4046",
   "metadata": {},
   "outputs": [
    {
     "name": "stdout",
     "output_type": "stream",
     "text": [
      "        num_legs  num_wings  num_specimen_seen\n",
      "falcon         2          2                 10\n",
      "dog            4          0                  2\n",
      "spider         8          0                  1\n",
      "fish           0          0                  8\n"
     ]
    }
   ],
   "source": [
    "df=pd.read_csv(\"Data/Only_Phone_Numbers.csv\")\n",
    "arr=df.to_numpy()\n",
    "arr=np.delete(arr,-1)\n",
    "arr=arr.reshape(5,6)\n",
    "arr\n",
    "df1=pd.DataFrame(arr)\n",
    "df1.to_csv(\"Data/Data-Frame.csv\",index=True)\n",
    "df2 = pd.DataFrame({'num_legs': [2, 4, 8, 0],\n",
    "                   'num_wings': [2, 0, 0, 0],\n",
    "                   'num_specimen_seen': [10, 2, 1, 8]},\n",
    "                  index=['falcon', 'dog', 'spider', 'fish'])\n",
    "print(df2)\n"
   ]
  },
  {
   "cell_type": "code",
   "execution_count": 11,
   "id": "67d21fd8",
   "metadata": {},
   "outputs": [
    {
     "name": "stdout",
     "output_type": "stream",
     "text": [
      "            0           1           2           3           4           5\n",
      "0  8005599893  8955570628  9637895108  8199710072  7727811440  9992850943\n",
      "1  9634609912  9079982210  9460355840  9953659776  9801105545  8949938010\n",
      "            0           1           2           3           4           5\n",
      "3  9313943610  9520498961  9462305205  9636920303  8619138832  8824080887\n",
      "4  8829022892  6375240130  9466859532  9442082848  9444155555  9228990010\n",
      "<class 'pandas.core.frame.DataFrame'>\n",
      "RangeIndex: 5 entries, 0 to 4\n",
      "Data columns (total 6 columns):\n",
      " #   Column  Non-Null Count  Dtype\n",
      "---  ------  --------------  -----\n",
      " 0   0       5 non-null      int64\n",
      " 1   1       5 non-null      int64\n",
      " 2   2       5 non-null      int64\n",
      " 3   3       5 non-null      int64\n",
      " 4   4       5 non-null      int64\n",
      " 5   5       5 non-null      int64\n",
      "dtypes: int64(6)\n",
      "memory usage: 372.0 bytes\n",
      "None\n",
      "            0           1           2           3           4           5\n",
      "0  8005599893  8955570628  9637895108  8199710072  7727811440  9992850943\n",
      "1  9634609912  9079982210  9460355840  9953659776  9801105545  8949938010\n",
      "2  9461475381  9468571212  9461115531  6375550001  6250034105  8949938810\n"
     ]
    },
    {
     "name": "stdout",
     "output_type": "stream",
     "text": [
      "                  0             1             2             3             4  \\\n",
      "count  5.000000e+00  5.000000e+00  5.000000e+00  5.000000e+00  5.000000e+00   \n",
      "mean   9.048930e+09  8.679973e+09  9.497706e+09  8.721585e+09  8.368449e+09   \n",
      "std    6.558094e+08  1.311118e+09  7.840855e+07  1.470646e+09  1.429212e+09   \n",
      "min    8.005600e+09  6.375240e+09  9.460356e+09  6.375550e+09  6.250034e+09   \n",
      "25%    8.829023e+09  8.955571e+09  9.461116e+09  8.199710e+09  7.727811e+09   \n",
      "50%    9.313944e+09  9.079982e+09  9.462305e+09  9.442083e+09  8.619139e+09   \n",
      "75%    9.461475e+09  9.468571e+09  9.466860e+09  9.636920e+09  9.444156e+09   \n",
      "max    9.634610e+09  9.520499e+09  9.637895e+09  9.953660e+09  9.801106e+09   \n",
      "\n",
      "                  5  \n",
      "count  5.000000e+00  \n",
      "mean   9.189160e+09  \n",
      "std    4.730862e+08  \n",
      "min    8.824081e+09  \n",
      "25%    8.949938e+09  \n",
      "50%    8.949939e+09  \n",
      "75%    9.228990e+09  \n",
      "max    9.992851e+09  \n",
      "(4, 3)\n",
      "Index(['num_legs', 'num_wings', 'num_specimen_seen'], dtype='object')\n",
      "        num_legs  num_wings\n",
      "falcon         2          2\n",
      "dog            4          0\n",
      "spider         8          0\n",
      "fish           0          0\n",
      "        num_legs  num_wings  num_specimen_seen\n",
      "falcon         2          2                 10\n",
      "dog            4          0                  2\n",
      "        num_legs  num_wings  num_specimen_seen\n",
      "falcon         2          2                 10\n",
      "dog            4          0                  2\n",
      "spider         8          0                  1\n",
      "fish           0          0                  8\n",
      "        num_legs  num_wings  num_specimen_seen\n",
      "falcon         2          2                 10\n",
      "dog            4          0                  2\n",
      "fish           0          0                  8\n"
     ]
    }
   ],
   "source": [
    "print(df1.head(2))\n",
    "print(df1.tail(2))\n",
    "print(df1.info())\n",
    "print(df1.loc[0:2])\n",
    "print(df1.describe())\n",
    "print(df2.shape)\n",
    "print(df2.columns)\n",
    "d=df2[['num_legs', 'num_wings']]\n",
    "print(d)\n",
    "print(df2[(df2[\"num_legs\"]>0) & (df2[\"num_legs\"]<8)])\n",
    "print(df2[(df2[\"num_legs\"]>0) |(df2[\"num_legs\"]<8)])\n",
    "print(df2[~(df2[\"num_legs\"]>4)])"
   ]
  },
  {
   "cell_type": "code",
   "execution_count": 10,
   "id": "931c8e1a",
   "metadata": {},
   "outputs": [
    {
     "name": "stdout",
     "output_type": "stream",
     "text": [
      "   product_id      name  price  in_stock\n",
      "0         101  Widget A  19.99      True\n",
      "1         102  Widget B  24.99     False\n",
      "2         103  Gadget A  49.99      True\n",
      "3         104  Gadget B  99.99      True\n",
      "<class 'pandas.core.frame.DataFrame'>\n",
      "RangeIndex: 4 entries, 0 to 3\n",
      "Data columns (total 4 columns):\n",
      " #   Column      Non-Null Count  Dtype  \n",
      "---  ------      --------------  -----  \n",
      " 0   product_id  4 non-null      int64  \n",
      " 1   name        4 non-null      object \n",
      " 2   price       4 non-null      float64\n",
      " 3   in_stock    4 non-null      bool   \n",
      "dtypes: bool(1), float64(1), int64(1), object(1)\n",
      "memory usage: 232.0+ bytes\n",
      "None\n",
      "48.739999999999995\n",
      "   product_id      name  price  in_stock\n",
      "0         101  Widget A  19.99      True\n",
      "2         103  Gadget A  49.99      True\n",
      "3         104  Gadget B  99.99      True\n",
      "       name  price\n",
      "2  Gadget A  49.99\n",
      "   product_id      name  price  in_stock\n",
      "0         101  Widget A  19.99      True\n",
      "1         102  Widget B  24.99     False\n",
      "2         103  Gadget A  49.99      True\n",
      "3         104  Gadget B  99.99      True\n",
      "4         105  Widget C  29.99      True\n"
     ]
    }
   ],
   "source": [
    "product_df= pd.DataFrame({\n",
    "    'product_id': [101, 102, 103, 104],\n",
    "    'name': ['Widget A', 'Widget B', 'Gadget A', 'Gadget B'],\n",
    "    'price': [19.99, 24.99, 49.99, 99.99],\n",
    "    'in_stock': [True, False, True, True]\n",
    "})\n",
    "print(product_df)\n",
    "print(product_df.info())\n",
    "print(product_df['price'].mean())\n",
    "print(product_df[product_df['in_stock'] == True])\n",
    "print(product_df[product_df['product_id']==103][['name','price']])  \n",
    "product_df.loc[4] = [105, 'Widget C', 29.99, True]\n",
    "print(product_df)\n"
   ]
  },
  {
   "cell_type": "code",
   "execution_count": null,
   "id": "b11b67fe",
   "metadata": {},
   "outputs": [],
   "source": []
  }
 ],
 "metadata": {
  "kernelspec": {
   "display_name": "Python 3",
   "language": "python",
   "name": "python3"
  },
  "language_info": {
   "codemirror_mode": {
    "name": "ipython",
    "version": 3
   },
   "file_extension": ".py",
   "mimetype": "text/x-python",
   "name": "python",
   "nbconvert_exporter": "python",
   "pygments_lexer": "ipython3",
   "version": "3.13.2"
  }
 },
 "nbformat": 4,
 "nbformat_minor": 5
}
